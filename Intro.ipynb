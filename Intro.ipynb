{
 "cells": [
  {
   "cell_type": "markdown",
   "metadata": {
    "slideshow": {
     "slide_type": "slide"
    }
   },
   "source": [
    "<center><img src='assets/welcome.jpg'></center>"
   ]
  },
  {
   "cell_type": "markdown",
   "metadata": {
    "slideshow": {
     "slide_type": "slide"
    }
   },
   "source": [
    "# Content\n",
    "- Introduction\n",
    "- Motivation\n",
    "- Analysis complexity\n",
    "- Algorithm categories\n",
    "- Competitive programming\n",
    "- Let's do it!"
   ]
  },
  {
   "cell_type": "markdown",
   "metadata": {
    "slideshow": {
     "slide_type": "slide"
    }
   },
   "source": [
    "# Motivation\n",
    "\n",
    "- **What is this for?**\n"
   ]
  },
  {
   "cell_type": "markdown",
   "metadata": {
    "slideshow": {
     "slide_type": "slide"
    }
   },
   "source": [
    "# Motivation\n",
    "\n",
    "- What is this for?\n",
    "- **Work for companies like Google, Amazon, Microsoft, etc?**"
   ]
  },
  {
   "cell_type": "markdown",
   "metadata": {
    "slideshow": {
     "slide_type": "slide"
    }
   },
   "source": [
    "# Motivation\n",
    "\n",
    "- What is this for?\n",
    "- Work for companies like Google, Amazon, Microsoft, etc?\n",
    "- **Glory, prizes, and more**"
   ]
  },
  {
   "cell_type": "markdown",
   "metadata": {
    "slideshow": {
     "slide_type": "slide"
    }
   },
   "source": [
    "# Motivation\n",
    "\n",
    "- What is this for?\n",
    "- Work for companies like Google, Amazon, Microsoft, etc?\n",
    "- Glory, prizes, and more\n",
    "- **Solve chanllenges is fun!**\n",
    "> **It's like practicing any other discipline**\n"
   ]
  },
  {
   "cell_type": "markdown",
   "metadata": {
    "slideshow": {
     "slide_type": "slide"
    }
   },
   "source": [
    "# Introduction\n",
    "- **What is an algorithm?**"
   ]
  },
  {
   "cell_type": "markdown",
   "metadata": {
    "slideshow": {
     "slide_type": "slide"
    }
   },
   "source": [
    "# Introduction\n",
    "- **What is an algorithm?**\n",
    "\n",
    "> In mathematics and computer science, **an algorithm is a finite sequence of well-defined**, computer-implementable instructions, typically **to solve a class of problems or to perform a computation** - [Wiki](https://en.wikipedia.org/wiki/Algorithm)\n"
   ]
  },
  {
   "cell_type": "markdown",
   "metadata": {
    "slideshow": {
     "slide_type": "slide"
    }
   },
   "source": [
    "# Analysis complexity\n",
    "\n",
    "- **Time complexity**"
   ]
  },
  {
   "cell_type": "markdown",
   "metadata": {
    "slideshow": {
     "slide_type": "slide"
    }
   },
   "source": [
    "# Analysis complexity\n",
    "\n",
    "- Time complexity\n",
    "- **Space complexity**"
   ]
  },
  {
   "cell_type": "markdown",
   "metadata": {
    "slideshow": {
     "slide_type": "slide"
    }
   },
   "source": [
    "# Analysis complexity\n",
    "\n",
    "- Time complexity\n",
    "- Space complexity\n",
    "- **Big O notation**: describes how complex an algorithm is"
   ]
  },
  {
   "cell_type": "markdown",
   "metadata": {
    "slideshow": {
     "slide_type": "slide"
    }
   },
   "source": [
    "# Analysis complexity\n",
    "\n",
    "- Time complexity\n",
    "- Space complexity\n",
    "- Big O notation: describes how complex an algorithm is\n",
    "---\n",
    "- **Best case** — Big Omega or Ω(n)\n",
    "- **Average case** — Big Theta or Θ(n)\n",
    "- **Worst case** — Big O Notation or O(n)"
   ]
  },
  {
   "cell_type": "markdown",
   "metadata": {
    "slideshow": {
     "slide_type": "slide"
    }
   },
   "source": [
    "<center><img src='assets/big-o.png'></center>"
   ]
  },
  {
   "cell_type": "code",
   "execution_count": 3,
   "metadata": {
    "slideshow": {
     "slide_type": "slide"
    }
   },
   "outputs": [
    {
     "name": "stdout",
     "output_type": "stream",
     "text": [
      "0  1  2  3  4  5  6  7  8  9  10  11  12  13  14  15  16  17  18  19  20  21  22  23  24  25  26  27  28  29  30  31  32  33  34  35  36  37  38  39  40  41  42  43  44  45  46  47  48  49  50  51  52  53  54  55  56  57  58  59  60  61  62  63  64  65  66  67  68  69  70  71  72  73  74  75  76  77  78  79  80  81  82  83  84  85  86  87  88  89  90  91  92  93  94  95  96  97  98  99  "
     ]
    }
   ],
   "source": [
    "# Print first N numbers\n",
    "n = 100\n",
    "for i in range(n):\n",
    "    print(i,' ',end='')\n",
    "\n",
    "# O(n)"
   ]
  },
  {
   "cell_type": "code",
   "execution_count": 4,
   "metadata": {
    "slideshow": {
     "slide_type": "slide"
    }
   },
   "outputs": [
    {
     "name": "stdout",
     "output_type": "stream",
     "text": [
      "arr:  [1, 3, 4, 5, 3, 9, 12, 15, 4, 12, 16, 20, 5, 15, 20, 25]\n"
     ]
    }
   ],
   "source": [
    "# Print all possible combinations of product between 2 different numbers\n",
    "# n = len(n)\n",
    "arr = [1, 3, 4, 5]\n",
    "out = []\n",
    "\n",
    "for i in range(0, len(arr)): # n\n",
    "    for j in range(0, len(arr)): #n\n",
    "        out.append(arr[i] * arr[j])\n",
    "\n",
    "# O(n^2)        \n",
    "print('arr: ', out)"
   ]
  },
  {
   "cell_type": "code",
   "execution_count": 11,
   "metadata": {
    "slideshow": {
     "slide_type": "slide"
    }
   },
   "outputs": [
    {
     "name": "stdout",
     "output_type": "stream",
     "text": [
      "index:  99\n",
      "steps 7\n"
     ]
    }
   ],
   "source": [
    "# Lower bound \n",
    "#arr = [5, 3, 7, 9, 4, 1]\n",
    "arr = [1] * 100\n",
    "arr.sort() # O(n*log(n))\n",
    "# arr = [1, 3, 4, 5, 7, 9]\n",
    "# index [0, 1, 2, 3, 4, 5]\n",
    "steps = 0\n",
    "def binary_search(x, arr):\n",
    "    lo = 0\n",
    "    hi = len(arr) - 1\n",
    "    global steps\n",
    "\n",
    "    while (lo < hi):\n",
    "        steps += 1\n",
    "        mid = int((lo + hi + 1) / 2)\n",
    "        if (arr[mid] <= x):\n",
    "            lo = mid\n",
    "        else:\n",
    "            hi = mid - 1\n",
    "    return lo\n",
    "# O(n*log(n)) + O(log_2(n)) + c\n",
    "# O(n*log(n))\n",
    "x = 10\n",
    "ind = binary_search(x, arr)\n",
    "print('index: ', ind)\n",
    "print('steps', steps)"
   ]
  },
  {
   "cell_type": "markdown",
   "metadata": {
    "slideshow": {
     "slide_type": "slide"
    }
   },
   "source": [
    "<center><img src='assets/BS.svg'></center>"
   ]
  },
  {
   "cell_type": "code",
   "execution_count": 6,
   "metadata": {
    "slideshow": {
     "slide_type": "slide"
    }
   },
   "outputs": [
    {
     "data": {
      "text/plain": [
       "6.643856189774725"
      ]
     },
     "execution_count": 6,
     "metadata": {},
     "output_type": "execute_result"
    }
   ],
   "source": [
    "# log_b(x) = log_c(x) / log_c(b)\n",
    "\n",
    "from math import log\n",
    "def calc_log2(n):\n",
    "    return log(n) / log(2)\n",
    "\n",
    "calc_log2(100)\n"
   ]
  },
  {
   "cell_type": "markdown",
   "metadata": {
    "slideshow": {
     "slide_type": "slide"
    }
   },
   "source": [
    "# Algorithm categories\n",
    "- Math: GCD, primes, modular arithmetic...\n",
    "- Graphs: Shortest paths, toposort, Traveling,...\n",
    "- Dynamic programming: Knapsack problem, LIS...\n",
    "- Geometry: convex hull, Area of a polygon, ..\n",
    "- Greedy\n",
    "- Implementation"
   ]
  },
  {
   "cell_type": "markdown",
   "metadata": {
    "slideshow": {
     "slide_type": "slide"
    }
   },
   "source": [
    "# Competitive programming\n",
    "\n",
    "- Description\n",
    "- Problem set\n",
    "- Scoreboard\n",
    "- Teams or individual\n",
    "- On site or on Internet\n",
    "- Prizes"
   ]
  },
  {
   "cell_type": "markdown",
   "metadata": {
    "slideshow": {
     "slide_type": "slide"
    }
   },
   "source": [
    "# Competitive programming\n",
    "\n",
    "- IOI **International Olympiad in Informatics**: College\n",
    "- ICPC **International Collegiate Programming Contest**: University\n",
    "- Google Codejam: online"
   ]
  },
  {
   "cell_type": "markdown",
   "metadata": {
    "slideshow": {
     "slide_type": "slide"
    }
   },
   "source": [
    "<center><img src='assets/scoreboard.jpg'></center>"
   ]
  },
  {
   "cell_type": "markdown",
   "metadata": {
    "slideshow": {
     "slide_type": "slide"
    }
   },
   "source": [
    "# Let's do it!"
   ]
  },
  {
   "cell_type": "markdown",
   "metadata": {
    "slideshow": {
     "slide_type": "slide"
    }
   },
   "source": [
    "# Problem description\n",
    "\n",
    "**Toby And The Coins**\n",
    "Toby is going to buy a machine to send love letters to his girlfriend, the machine costs **N** pesos. Toby works very hard and he has a lot of money, in fact, he can pay the machine with any combination of coins!\n",
    "**Toby wants to know what is the minimum number of coins he needs to buy the machine.**\n",
    "\n",
    "In the Toby's city there are coins with the following values: **1, 2, 5, 10, 20**\n"
   ]
  },
  {
   "cell_type": "markdown",
   "metadata": {
    "slideshow": {
     "slide_type": "slide"
    }
   },
   "source": [
    "| Sample Input   | Sample Output|\n",
    "| ------------- | -------------|\n",
    "| 15            | 2            |\n",
    "| 8             | 3            |\n",
    "| 22            | 2            |"
   ]
  },
  {
   "cell_type": "markdown",
   "metadata": {
    "slideshow": {
     "slide_type": "slide"
    }
   },
   "source": [
    "# Explanation\n",
    "\n",
    "**Values to use:** [1, 2, 5, 10, 20]\n",
    "\n",
    "---\n",
    "| N   | Sumatory      | Total used|\n",
    "| ------------- | -------------| ----- |\n",
    "| 15            | 10 + 5        | 2     |\n",
    "| 8             | 5 + 2 + 1     |   3   |\n",
    "| 22            | 20 + 2     |   2   |\n",
    "\n",
    "\n"
   ]
  },
  {
   "cell_type": "markdown",
   "metadata": {
    "slideshow": {
     "slide_type": "slide"
    }
   },
   "source": [
    "# First approach\n",
    "\n",
    "<center><img width='50%' src='assets/graph1.png'></center>"
   ]
  },
  {
   "cell_type": "markdown",
   "metadata": {
    "slideshow": {
     "slide_type": "slide"
    }
   },
   "source": [
    "# First approach\n",
    "\n",
    "Implementation\n"
   ]
  },
  {
   "cell_type": "code",
   "execution_count": 2,
   "metadata": {
    "slideshow": {
     "slide_type": "slide"
    }
   },
   "outputs": [
    {
     "data": {
      "text/plain": [
       "3"
      ]
     },
     "execution_count": 2,
     "metadata": {},
     "output_type": "execute_result"
    }
   ],
   "source": [
    "array = [1, 2, 5, 10, 20]\n",
    "# 24 - 20 -> 4 - 2 -> 2 - 2 -> 0\n",
    "# 20 + 2 + 2\n",
    "def solve(n, steps):\n",
    "    if n == 0:\n",
    "        return steps\n",
    "\n",
    "    ans = 1e9\n",
    "    for num in array: # 5\n",
    "        if (n - num >= 0):\n",
    "            ans = min(solve(n - num, steps + 1), ans)\n",
    "    return ans\n",
    "# O(5 ^ k)\n",
    "\n",
    "solve(26, 0)"
   ]
  },
  {
   "cell_type": "markdown",
   "metadata": {
    "slideshow": {
     "slide_type": "slide"
    }
   },
   "source": [
    "# First approach\n",
    "\n",
    "How to improve this?"
   ]
  },
  {
   "cell_type": "markdown",
   "metadata": {
    "slideshow": {
     "slide_type": "slide"
    }
   },
   "source": [
    "<center><img width='50%' src='assets/graph2.png'></center>"
   ]
  },
  {
   "cell_type": "markdown",
   "metadata": {
    "slideshow": {
     "slide_type": "slide"
    }
   },
   "source": [
    "# Conditions to use Dynamic programming\n",
    "    a) Optimal Substructure \n",
    "    b) Overlapping subproblem "
   ]
  },
  {
   "cell_type": "code",
   "execution_count": 3,
   "metadata": {
    "slideshow": {
     "slide_type": "slide"
    }
   },
   "outputs": [
    {
     "data": {
      "text/plain": [
       "10"
      ]
     },
     "execution_count": 3,
     "metadata": {},
     "output_type": "execute_result"
    }
   ],
   "source": [
    "array = [1, 2, 5, 10, 20]\n",
    "memo = [-1] * 1000\n",
    "# state \n",
    "def solve(n):\n",
    "    if n == 0: return 0\n",
    "    if memo[n] != -1: return memo[n]\n",
    "\n",
    "    ans = 1e9\n",
    "    for num in array:\n",
    "        if (n - num >= 0):\n",
    "            ans = min(solve(n - num) + 1, ans)\n",
    "    memo[n] = ans\n",
    "    return memo[n]\n",
    "# O(5^k)\n",
    "# O(n * 5) = O(n)\n",
    "solve(200)"
   ]
  },
  {
   "cell_type": "markdown",
   "metadata": {
    "slideshow": {
     "slide_type": "slide"
    }
   },
   "source": [
    "\n",
    "# Second approach\n",
    "\n",
    "Looking for an strategy...\n"
   ]
  },
  {
   "cell_type": "code",
   "execution_count": 4,
   "metadata": {
    "slideshow": {
     "slide_type": "slide"
    }
   },
   "outputs": [
    {
     "data": {
      "text/plain": [
       "5"
      ]
     },
     "execution_count": 4,
     "metadata": {},
     "output_type": "execute_result"
    }
   ],
   "source": [
    "#array = [1, 2, 5, 10, 20]\n",
    "array = [20, 10, 5, 2, 1] # sorted\n",
    "\n",
    "def solve(n):\n",
    "    steps = 0\n",
    "    ind = 0\n",
    "    for num in array:\n",
    "        while (n - num >= 0):\n",
    "            n -= num\n",
    "            steps += 1\n",
    "        \n",
    "    return steps\n",
    "\n",
    "solve(100)"
   ]
  },
  {
   "cell_type": "markdown",
   "metadata": {
    "slideshow": {
     "slide_type": "slide"
    }
   },
   "source": [
    "# One last example\n",
    "\n",
    "Print the first **N** prime number\n"
   ]
  },
  {
   "cell_type": "code",
   "execution_count": 1,
   "metadata": {
    "slideshow": {
     "slide_type": "slide"
    }
   },
   "outputs": [],
   "source": [
    "def is_prime(n):\n",
    "    if (n == 1): return False\n",
    "    i = 2\n",
    "    while i * i <= n:\n",
    "        if n % i == 0: return False\n",
    "        i += 1\n",
    "    return True\n",
    "\n",
    "for i in range(1, 20):\n",
    "    print(i, is_prime(i))"
   ]
  },
  {
   "cell_type": "code",
   "execution_count": 4,
   "metadata": {
    "slideshow": {
     "slide_type": "slide"
    }
   },
   "outputs": [],
   "source": [
    "criba = [1] * 30\n",
    "primes = []\n",
    "def fill_criba(MX):\n",
    "    i = 2\n",
    "    while i <= MX:\n",
    "        if criba[i]:\n",
    "            primes.append(i)\n",
    "            for j in range(i,MX + 1,i):\n",
    "                criba[j] = 0\n",
    "        i += 1\n",
    "\n",
    "fill_criba(20)"
   ]
  },
  {
   "cell_type": "markdown",
   "metadata": {
    "slideshow": {
     "slide_type": "slide"
    }
   },
   "source": [
    "<h1><center>Thanks!</center></h1>"
   ]
  },
  {
   "cell_type": "markdown",
   "metadata": {
    "slideshow": {
     "slide_type": "slide"
    }
   },
   "source": [
    "# Resources\n",
    "\n",
    "- https://codeforces.com\n",
    "- https://www.hackerrank.com\n",
    "- https://www.codechef.com\n",
    "- https://codingcompetitions.withgoogle.com/codejam"
   ]
  }
 ],
 "metadata": {
  "celltoolbar": "Slideshow",
  "kernelspec": {
   "display_name": "Python 3",
   "language": "python",
   "name": "python3"
  },
  "language_info": {
   "codemirror_mode": {
    "name": "ipython",
    "version": 3
   },
   "file_extension": ".py",
   "mimetype": "text/x-python",
   "name": "python",
   "nbconvert_exporter": "python",
   "pygments_lexer": "ipython3",
   "version": "3.8.3"
  }
 },
 "nbformat": 4,
 "nbformat_minor": 4
}
